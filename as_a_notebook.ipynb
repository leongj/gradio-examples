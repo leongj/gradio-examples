{
 "cells": [
  {
   "cell_type": "markdown",
   "metadata": {},
   "source": [
    "# Gradio.app\n",
    "[Quickstart](https://www.gradio.app/guides/quickstart)\n",
    "\n",
    "## Basic input/output example \n",
    "e.g. for demoing API calls that normally don't have a UI"
   ]
  },
  {
   "cell_type": "code",
   "execution_count": null,
   "metadata": {},
   "outputs": [],
   "source": [
    "import gradio as gr\n",
    "\n",
    "def greet(name, date):\n",
    "    if date:\n",
    "        return \"Hello \" + name + \"! Happy \" + date + \"!\"\n",
    "\n",
    "    return \"Hello \" + name + \"!\"\n",
    "\n",
    "demo = gr.Interface(fn=greet, inputs=[\"text\", \"text\"], outputs=\"text\")\n",
    "    \n",
    "demo.launch()   "
   ]
  },
  {
   "cell_type": "markdown",
   "metadata": {},
   "source": [
    "## Chat interface example"
   ]
  },
  {
   "cell_type": "code",
   "execution_count": null,
   "metadata": {},
   "outputs": [],
   "source": [
    "import gradio as gr\n",
    "\n",
    "def response(message, history):\n",
    "\n",
    "    # whatever you want to do with the message and history\n",
    "    \n",
    "    return \"Someone needs to implement response()!\"\n",
    "\n",
    "demo = gr.ChatInterface(response)\n",
    "\n",
    "demo.launch()"
   ]
  },
  {
   "cell_type": "markdown",
   "metadata": {},
   "source": [
    "## Basic Q&A with OpenAI API"
   ]
  },
  {
   "cell_type": "code",
   "execution_count": null,
   "metadata": {},
   "outputs": [],
   "source": [
    "import gradio as gr\n",
    "import openai\n",
    "\n",
    "# PUT YOUR CONFIG HERE\n",
    "AZURE_OPENAI_SERVICE = \"my-azure-openai-service-name\"\n",
    "AZURE_OPENAI_DEPLOYMENT = \"my-openai-deployment-name\"\n",
    "AZURE_OPENAI_MODEL = \"gpt-35-turbo\"\n",
    "AZURE_OPENAI_KEY = \"my-azure-openai-key\"\n",
    "\n",
    "# Configure OpenAI\n",
    "openai.api_type = \"azure\"\n",
    "openai.api_base = f\"https://{AZURE_OPENAI_SERVICE}.openai.azure.com\"\n",
    "openai.api_version = \"2023-05-15\"\n",
    "openai.api_key = AZURE_OPENAI_KEY\n",
    "\n",
    "def complete(system_prompt, question, temperature):\n",
    "    if question == \"\":\n",
    "        return \"Please ask a question.\", 0\n",
    "\n",
    "    messages = []\n",
    "    messages.append({\"role\" : \"system\", \"content\" : system_prompt})\n",
    "    messages.append({\"role\" : \"user\", \"content\" : question})\n",
    "\n",
    "    response = openai.ChatCompletion.create(\n",
    "                    deployment_id=AZURE_OPENAI_DEPLOYMENT,\n",
    "                    model=AZURE_OPENAI_MODEL,\n",
    "                    messages=messages, \n",
    "                    temperature=0.7, \n",
    "                    max_tokens=1024, \n",
    "                    n=1)\n",
    "\n",
    "    answer = response.choices[0].message.content\n",
    "    tokens_used = response.usage.completion_tokens\n",
    "\n",
    "    return answer, tokens_used\n",
    "\n",
    "# create an example for the user\n",
    "examples = [[\"You are a pirate. You make pirate jokes.\", \"Please write me a professional business plan.\", 1]]\n",
    "\n",
    "demo = gr.Interface(fn=complete, \n",
    "                    inputs=[gr.Textbox(label=\"System Prompt\"), \n",
    "                            gr.Textbox(label=\"Question\"), \n",
    "                            gr.Slider(0, 1, 0.7)], \n",
    "                    outputs=[gr.TextArea(label=\"Response\"), \n",
    "                             gr.Textbox(label=\"Tokens used\")],\n",
    "                    examples=examples,\n",
    "                    title=\"Basic OpenAI Q&A\")\n",
    "    \n",
    "demo.launch()   "
   ]
  },
  {
   "cell_type": "markdown",
   "metadata": {},
   "source": [
    "## Basic chat with OpenAI"
   ]
  },
  {
   "cell_type": "code",
   "execution_count": null,
   "metadata": {},
   "outputs": [],
   "source": [
    "import gradio as gr\n",
    "import openai\n",
    "\n",
    "# PUT YOUR CONFIG HERE\n",
    "AZURE_OPENAI_SERVICE = \"my-azure-openai-service-name\"\n",
    "AZURE_OPENAI_DEPLOYMENT = \"my-openai-deployment-name\"\n",
    "AZURE_OPENAI_MODEL = \"gpt-35-turbo\"\n",
    "AZURE_OPENAI_KEY = \"my-azure-openai-key\"\n",
    "\n",
    "# Configure OpenAI\n",
    "openai.api_type = \"azure\"\n",
    "openai.api_base = f\"https://{AZURE_OPENAI_SERVICE}.openai.azure.com\"\n",
    "openai.api_version = \"2023-05-15\"\n",
    "openai.api_key = AZURE_OPENAI_KEY\n",
    "\n",
    "system_prompt = \"\"\"\n",
    "You are a pirate. You make pirate jokes.\n",
    "\"\"\"\n",
    "\n",
    "def response(message, history):\n",
    "\n",
    "    if message == \"\":\n",
    "        return\n",
    "\n",
    "    # build the message history in the ChatCompletion format\n",
    "    gpt_messages = []\n",
    "    gpt_messages.append({\"role\" : \"system\", \"content\" : system_prompt})\n",
    "    for human, assistant in history:\n",
    "        gpt_messages.append({\"role\": \"user\", \"content\": human })\n",
    "        gpt_messages.append({\"role\": \"assistant\", \"content\":assistant})\n",
    "    \n",
    "    # now add the latest message\n",
    "    gpt_messages.append({\"role\": \"user\", \"content\": message})\n",
    "\n",
    "    response = openai.ChatCompletion.create(\n",
    "                    deployment_id=AZURE_OPENAI_DEPLOYMENT,\n",
    "                    model=AZURE_OPENAI_MODEL,\n",
    "                    messages=gpt_messages, \n",
    "                    temperature=0.7,\n",
    "                    stream=True\n",
    "                    )\n",
    "\n",
    "    partial_message = \"\"\n",
    "    for chunk in response:\n",
    "        if 'content' in chunk.choices[0].delta:\n",
    "            partial_message = partial_message + chunk['choices'][0]['delta']['content']\n",
    "            yield partial_message\n",
    "\n",
    "gr.ChatInterface(response).queue().launch()\n"
   ]
  },
  {
   "cell_type": "code",
   "execution_count": null,
   "metadata": {},
   "outputs": [],
   "source": []
  }
 ],
 "metadata": {
  "kernelspec": {
   "display_name": ".venv",
   "language": "python",
   "name": "python3"
  },
  "language_info": {
   "codemirror_mode": {
    "name": "ipython",
    "version": 3
   },
   "file_extension": ".py",
   "mimetype": "text/x-python",
   "name": "python",
   "nbconvert_exporter": "python",
   "pygments_lexer": "ipython3",
   "version": "3.10.12"
  },
  "orig_nbformat": 4
 },
 "nbformat": 4,
 "nbformat_minor": 2
}
